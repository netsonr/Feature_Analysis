{
  "nbformat": 4,
  "nbformat_minor": 0,
  "metadata": {
    "colab": {
      "name": "PCA_CognitiveTest.ipynb",
      "provenance": [],
      "collapsed_sections": []
    },
    "kernelspec": {
      "name": "python3",
      "display_name": "Python 3"
    },
    "language_info": {
      "name": "python"
    }
  },
  "cells": [
    {
      "cell_type": "code",
      "metadata": {
        "id": "yRmQ7hzg-unC",
        "colab": {
          "base_uri": "https://localhost:8080/"
        },
        "outputId": "b608685a-b092-45e6-80bd-4ee98f6b6966"
      },
      "source": [
        "import pandas as pd\n",
        "import numpy as np\n",
        "from datetime import datetime,date,timedelta\n",
        "!pip install pingouin"
      ],
      "execution_count": 1,
      "outputs": [
        {
          "output_type": "stream",
          "text": [
            "Collecting pingouin\n",
            "  Downloading pingouin-0.4.0.tar.gz (206 kB)\n",
            "\u001b[?25l\r\u001b[K     |█▋                              | 10 kB 23.3 MB/s eta 0:00:01\r\u001b[K     |███▏                            | 20 kB 28.1 MB/s eta 0:00:01\r\u001b[K     |████▊                           | 30 kB 21.9 MB/s eta 0:00:01\r\u001b[K     |██████▍                         | 40 kB 16.7 MB/s eta 0:00:01\r\u001b[K     |████████                        | 51 kB 5.6 MB/s eta 0:00:01\r\u001b[K     |█████████▌                      | 61 kB 6.1 MB/s eta 0:00:01\r\u001b[K     |███████████                     | 71 kB 5.5 MB/s eta 0:00:01\r\u001b[K     |████████████▊                   | 81 kB 6.2 MB/s eta 0:00:01\r\u001b[K     |██████████████▎                 | 92 kB 6.1 MB/s eta 0:00:01\r\u001b[K     |███████████████▉                | 102 kB 5.3 MB/s eta 0:00:01\r\u001b[K     |█████████████████▍              | 112 kB 5.3 MB/s eta 0:00:01\r\u001b[K     |███████████████████             | 122 kB 5.3 MB/s eta 0:00:01\r\u001b[K     |████████████████████▋           | 133 kB 5.3 MB/s eta 0:00:01\r\u001b[K     |██████████████████████▏         | 143 kB 5.3 MB/s eta 0:00:01\r\u001b[K     |███████████████████████▊        | 153 kB 5.3 MB/s eta 0:00:01\r\u001b[K     |█████████████████████████▍      | 163 kB 5.3 MB/s eta 0:00:01\r\u001b[K     |███████████████████████████     | 174 kB 5.3 MB/s eta 0:00:01\r\u001b[K     |████████████████████████████▌   | 184 kB 5.3 MB/s eta 0:00:01\r\u001b[K     |██████████████████████████████  | 194 kB 5.3 MB/s eta 0:00:01\r\u001b[K     |███████████████████████████████▊| 204 kB 5.3 MB/s eta 0:00:01\r\u001b[K     |████████████████████████████████| 206 kB 5.3 MB/s \n",
            "\u001b[?25hRequirement already satisfied: numpy>=1.19 in /usr/local/lib/python3.7/dist-packages (from pingouin) (1.19.5)\n",
            "Collecting scipy>=1.7\n",
            "  Downloading scipy-1.7.1-cp37-cp37m-manylinux_2_5_x86_64.manylinux1_x86_64.whl (28.5 MB)\n",
            "\u001b[K     |████████████████████████████████| 28.5 MB 49 kB/s \n",
            "\u001b[?25hRequirement already satisfied: pandas>=1.0 in /usr/local/lib/python3.7/dist-packages (from pingouin) (1.1.5)\n",
            "Requirement already satisfied: matplotlib>=3.0.2 in /usr/local/lib/python3.7/dist-packages (from pingouin) (3.2.2)\n",
            "Requirement already satisfied: seaborn>=0.9.0 in /usr/local/lib/python3.7/dist-packages (from pingouin) (0.11.1)\n",
            "Collecting statsmodels>=0.12.0\n",
            "  Downloading statsmodels-0.12.2-cp37-cp37m-manylinux1_x86_64.whl (9.5 MB)\n",
            "\u001b[K     |████████████████████████████████| 9.5 MB 55.0 MB/s \n",
            "\u001b[?25hRequirement already satisfied: scikit-learn in /usr/local/lib/python3.7/dist-packages (from pingouin) (0.22.2.post1)\n",
            "Collecting pandas_flavor>=0.2.0\n",
            "  Downloading pandas_flavor-0.2.0-py2.py3-none-any.whl (6.6 kB)\n",
            "Collecting outdated\n",
            "  Downloading outdated-0.2.1-py3-none-any.whl (7.5 kB)\n",
            "Requirement already satisfied: tabulate in /usr/local/lib/python3.7/dist-packages (from pingouin) (0.8.9)\n",
            "Requirement already satisfied: python-dateutil>=2.1 in /usr/local/lib/python3.7/dist-packages (from matplotlib>=3.0.2->pingouin) (2.8.2)\n",
            "Requirement already satisfied: pyparsing!=2.0.4,!=2.1.2,!=2.1.6,>=2.0.1 in /usr/local/lib/python3.7/dist-packages (from matplotlib>=3.0.2->pingouin) (2.4.7)\n",
            "Requirement already satisfied: kiwisolver>=1.0.1 in /usr/local/lib/python3.7/dist-packages (from matplotlib>=3.0.2->pingouin) (1.3.1)\n",
            "Requirement already satisfied: cycler>=0.10 in /usr/local/lib/python3.7/dist-packages (from matplotlib>=3.0.2->pingouin) (0.10.0)\n",
            "Requirement already satisfied: six in /usr/local/lib/python3.7/dist-packages (from cycler>=0.10->matplotlib>=3.0.2->pingouin) (1.15.0)\n",
            "Requirement already satisfied: pytz>=2017.2 in /usr/local/lib/python3.7/dist-packages (from pandas>=1.0->pingouin) (2018.9)\n",
            "Requirement already satisfied: xarray in /usr/local/lib/python3.7/dist-packages (from pandas_flavor>=0.2.0->pingouin) (0.18.2)\n",
            "Requirement already satisfied: patsy>=0.5 in /usr/local/lib/python3.7/dist-packages (from statsmodels>=0.12.0->pingouin) (0.5.1)\n",
            "Collecting littleutils\n",
            "  Downloading littleutils-0.2.2.tar.gz (6.6 kB)\n",
            "Requirement already satisfied: requests in /usr/local/lib/python3.7/dist-packages (from outdated->pingouin) (2.23.0)\n",
            "Requirement already satisfied: certifi>=2017.4.17 in /usr/local/lib/python3.7/dist-packages (from requests->outdated->pingouin) (2021.5.30)\n",
            "Requirement already satisfied: chardet<4,>=3.0.2 in /usr/local/lib/python3.7/dist-packages (from requests->outdated->pingouin) (3.0.4)\n",
            "Requirement already satisfied: urllib3!=1.25.0,!=1.25.1,<1.26,>=1.21.1 in /usr/local/lib/python3.7/dist-packages (from requests->outdated->pingouin) (1.24.3)\n",
            "Requirement already satisfied: idna<3,>=2.5 in /usr/local/lib/python3.7/dist-packages (from requests->outdated->pingouin) (2.10)\n",
            "Requirement already satisfied: joblib>=0.11 in /usr/local/lib/python3.7/dist-packages (from scikit-learn->pingouin) (1.0.1)\n",
            "Requirement already satisfied: setuptools>=40.4 in /usr/local/lib/python3.7/dist-packages (from xarray->pandas_flavor>=0.2.0->pingouin) (57.4.0)\n",
            "Building wheels for collected packages: pingouin, littleutils\n",
            "  Building wheel for pingouin (setup.py) ... \u001b[?25l\u001b[?25hdone\n",
            "  Created wheel for pingouin: filename=pingouin-0.4.0-py3-none-any.whl size=206904 sha256=c4877fef758f2a5361df1136d4a93579f7b4d88c0ccd7d1252cca54380a9d639\n",
            "  Stored in directory: /root/.cache/pip/wheels/8a/9d/c4/11677c2c4d5c0df9d1d4aa61528d868bb96e13b898e3f51c95\n",
            "  Building wheel for littleutils (setup.py) ... \u001b[?25l\u001b[?25hdone\n",
            "  Created wheel for littleutils: filename=littleutils-0.2.2-py3-none-any.whl size=7048 sha256=acc70122f8004f705f6c91cbe88490e6da224d3677066bf599071a7ffd19eac0\n",
            "  Stored in directory: /root/.cache/pip/wheels/d6/64/cd/32819b511a488e4993f2fab909a95330289c3f4e0f6ef4676d\n",
            "Successfully built pingouin littleutils\n",
            "Installing collected packages: scipy, littleutils, statsmodels, pandas-flavor, outdated, pingouin\n",
            "  Attempting uninstall: scipy\n",
            "    Found existing installation: scipy 1.4.1\n",
            "    Uninstalling scipy-1.4.1:\n",
            "      Successfully uninstalled scipy-1.4.1\n",
            "  Attempting uninstall: statsmodels\n",
            "    Found existing installation: statsmodels 0.10.2\n",
            "    Uninstalling statsmodels-0.10.2:\n",
            "      Successfully uninstalled statsmodels-0.10.2\n",
            "\u001b[31mERROR: pip's dependency resolver does not currently take into account all the packages that are installed. This behaviour is the source of the following dependency conflicts.\n",
            "albumentations 0.1.12 requires imgaug<0.2.7,>=0.2.5, but you have imgaug 0.2.9 which is incompatible.\u001b[0m\n",
            "Successfully installed littleutils-0.2.2 outdated-0.2.1 pandas-flavor-0.2.0 pingouin-0.4.0 scipy-1.7.1 statsmodels-0.12.2\n"
          ],
          "name": "stdout"
        }
      ]
    },
    {
      "cell_type": "markdown",
      "metadata": {
        "id": "DSAvIyOKFGuQ"
      },
      "source": [
        "Load in dataframe"
      ]
    },
    {
      "cell_type": "code",
      "metadata": {
        "id": "9NRidzyq_Acj"
      },
      "source": [
        "df = pd.read_csv(\"/content/RAWBOCA.csv\")"
      ],
      "execution_count": 2,
      "outputs": []
    },
    {
      "cell_type": "code",
      "metadata": {
        "colab": {
          "base_uri": "https://localhost:8080/",
          "height": 204
        },
        "id": "f90FGxjrFRDL",
        "outputId": "235a8990-81bb-4383-e4d7-1dd78c990d4f"
      },
      "source": [
        "df.head()"
      ],
      "execution_count": 5,
      "outputs": [
        {
          "output_type": "execute_result",
          "data": {
            "text/html": [
              "<div>\n",
              "<style scoped>\n",
              "    .dataframe tbody tr th:only-of-type {\n",
              "        vertical-align: middle;\n",
              "    }\n",
              "\n",
              "    .dataframe tbody tr th {\n",
              "        vertical-align: top;\n",
              "    }\n",
              "\n",
              "    .dataframe thead th {\n",
              "        text-align: right;\n",
              "    }\n",
              "</style>\n",
              "<table border=\"1\" class=\"dataframe\">\n",
              "  <thead>\n",
              "    <tr style=\"text-align: right;\">\n",
              "      <th></th>\n",
              "      <th>UserID</th>\n",
              "      <th>gender</th>\n",
              "      <th>Participant</th>\n",
              "      <th>email</th>\n",
              "      <th>date</th>\n",
              "      <th>Memory</th>\n",
              "      <th>delayed</th>\n",
              "      <th>clock test</th>\n",
              "      <th>mental</th>\n",
              "      <th>attention</th>\n",
              "      <th>math</th>\n",
              "      <th>PFS</th>\n",
              "      <th>Orientation</th>\n",
              "      <th>score</th>\n",
              "      <th>age</th>\n",
              "    </tr>\n",
              "  </thead>\n",
              "  <tbody>\n",
              "    <tr>\n",
              "      <th>0</th>\n",
              "      <td>b001</td>\n",
              "      <td>1.0</td>\n",
              "      <td>Fran</td>\n",
              "      <td>francesblo@gmail.com</td>\n",
              "      <td>5/9/20</td>\n",
              "      <td>2.0</td>\n",
              "      <td>5.0</td>\n",
              "      <td>4.0</td>\n",
              "      <td>3.0</td>\n",
              "      <td>2.0</td>\n",
              "      <td>4.0</td>\n",
              "      <td>4.0</td>\n",
              "      <td>3.0</td>\n",
              "      <td>27.0</td>\n",
              "      <td>69.0</td>\n",
              "    </tr>\n",
              "    <tr>\n",
              "      <th>1</th>\n",
              "      <td>b002</td>\n",
              "      <td>1.0</td>\n",
              "      <td>Cathy</td>\n",
              "      <td>ckarp@lacademy.edu</td>\n",
              "      <td>5/11/20</td>\n",
              "      <td>2.0</td>\n",
              "      <td>5.0</td>\n",
              "      <td>4.0</td>\n",
              "      <td>3.0</td>\n",
              "      <td>4.0</td>\n",
              "      <td>4.0</td>\n",
              "      <td>5.0</td>\n",
              "      <td>3.0</td>\n",
              "      <td>29.0</td>\n",
              "      <td>61.0</td>\n",
              "    </tr>\n",
              "    <tr>\n",
              "      <th>2</th>\n",
              "      <td>b003</td>\n",
              "      <td>1.0</td>\n",
              "      <td>Louise</td>\n",
              "      <td>ricewings@comcast.net</td>\n",
              "      <td>5/12/20</td>\n",
              "      <td>2.0</td>\n",
              "      <td>5.0</td>\n",
              "      <td>4.0</td>\n",
              "      <td>1.0</td>\n",
              "      <td>4.0</td>\n",
              "      <td>4.0</td>\n",
              "      <td>5.0</td>\n",
              "      <td>3.0</td>\n",
              "      <td>29.0</td>\n",
              "      <td>73.0</td>\n",
              "    </tr>\n",
              "    <tr>\n",
              "      <th>3</th>\n",
              "      <td>b004</td>\n",
              "      <td>1.0</td>\n",
              "      <td>Anne</td>\n",
              "      <td>annemacdowell@gmail.com</td>\n",
              "      <td>5/12/20</td>\n",
              "      <td>NaN</td>\n",
              "      <td>NaN</td>\n",
              "      <td>NaN</td>\n",
              "      <td>NaN</td>\n",
              "      <td>NaN</td>\n",
              "      <td>NaN</td>\n",
              "      <td>NaN</td>\n",
              "      <td>NaN</td>\n",
              "      <td>28.0</td>\n",
              "      <td>64.0</td>\n",
              "    </tr>\n",
              "    <tr>\n",
              "      <th>4</th>\n",
              "      <td>b005</td>\n",
              "      <td>2.0</td>\n",
              "      <td>Brett</td>\n",
              "      <td>brett.coon@gmail.com</td>\n",
              "      <td>5/13/20</td>\n",
              "      <td>2.0</td>\n",
              "      <td>5.0</td>\n",
              "      <td>4.0</td>\n",
              "      <td>3.0</td>\n",
              "      <td>4.0</td>\n",
              "      <td>4.0</td>\n",
              "      <td>5.0</td>\n",
              "      <td>3.0</td>\n",
              "      <td>30.0</td>\n",
              "      <td>53.0</td>\n",
              "    </tr>\n",
              "  </tbody>\n",
              "</table>\n",
              "</div>"
            ],
            "text/plain": [
              "  UserID  gender Participant  ... Orientation score   age\n",
              "0   b001     1.0        Fran  ...         3.0  27.0  69.0\n",
              "1   b002     1.0       Cathy  ...         3.0  29.0  61.0\n",
              "2   b003     1.0      Louise  ...         3.0  29.0  73.0\n",
              "3   b004     1.0        Anne  ...         NaN  28.0  64.0\n",
              "4   b005     2.0       Brett  ...         3.0  30.0  53.0\n",
              "\n",
              "[5 rows x 15 columns]"
            ]
          },
          "metadata": {
            "tags": []
          },
          "execution_count": 5
        }
      ]
    },
    {
      "cell_type": "code",
      "metadata": {
        "id": "o_szPW0m_g4s"
      },
      "source": [
        "df = df.rename(columns={'Unnamed: 0': 'UserID', 'Date of BoCA1': 'date'})"
      ],
      "execution_count": 6,
      "outputs": []
    },
    {
      "cell_type": "code",
      "metadata": {
        "id": "gAUfxmzb_lCS",
        "colab": {
          "base_uri": "https://localhost:8080/"
        },
        "outputId": "f9143643-777f-425c-c305-20196efdcbca"
      },
      "source": [
        "df.info()"
      ],
      "execution_count": 4,
      "outputs": [
        {
          "output_type": "stream",
          "text": [
            "<class 'pandas.core.frame.DataFrame'>\n",
            "RangeIndex: 210 entries, 0 to 209\n",
            "Data columns (total 15 columns):\n",
            " #   Column       Non-Null Count  Dtype  \n",
            "---  ------       --------------  -----  \n",
            " 0   UserID       210 non-null    object \n",
            " 1   gender       209 non-null    float64\n",
            " 2   Participant  208 non-null    object \n",
            " 3   email        130 non-null    object \n",
            " 4   date         140 non-null    object \n",
            " 5   Memory       189 non-null    float64\n",
            " 6   delayed      189 non-null    float64\n",
            " 7   clock test   189 non-null    float64\n",
            " 8   mental       189 non-null    float64\n",
            " 9   attention    189 non-null    float64\n",
            " 10  math         189 non-null    float64\n",
            " 11  PFS          189 non-null    float64\n",
            " 12  Orientation  189 non-null    float64\n",
            " 13  score        190 non-null    float64\n",
            " 14  age          192 non-null    float64\n",
            "dtypes: float64(11), object(4)\n",
            "memory usage: 24.7+ KB\n"
          ],
          "name": "stdout"
        }
      ]
    },
    {
      "cell_type": "code",
      "metadata": {
        "colab": {
          "base_uri": "https://localhost:8080/"
        },
        "id": "5p2oQnGzFaFN",
        "outputId": "7f2fafff-8ef4-4112-e04a-f9ea387be6ed"
      },
      "source": [
        "df.isna().sum()"
      ],
      "execution_count": 8,
      "outputs": [
        {
          "output_type": "execute_result",
          "data": {
            "text/plain": [
              "UserID          0\n",
              "gender          1\n",
              "Participant     2\n",
              "email          80\n",
              "date           70\n",
              "Memory         21\n",
              "delayed        21\n",
              "clock test     21\n",
              "mental         21\n",
              "attention      21\n",
              "math           21\n",
              "PFS            21\n",
              "Orientation    21\n",
              "score          20\n",
              "age            18\n",
              "dtype: int64"
            ]
          },
          "metadata": {
            "tags": []
          },
          "execution_count": 8
        }
      ]
    },
    {
      "cell_type": "markdown",
      "metadata": {
        "id": "IwuJr5CbFrb5"
      },
      "source": [
        "Subset columns that will be used:\n",
        "UserID, memory, delayed, clock test, mental, attention, math, PFS, orientation, score"
      ]
    },
    {
      "cell_type": "code",
      "metadata": {
        "id": "NKy680DYFrES"
      },
      "source": [
        "df_subset = df[[\"UserID\", \"Memory\", \"delayed\", \"clock test\", \"mental\", \"attention\", \"math\", \"PFS\", \"Orientation\", \"score\", \"age\", \"date\"]]"
      ],
      "execution_count": 32,
      "outputs": []
    },
    {
      "cell_type": "code",
      "metadata": {
        "id": "TiXULefl__jC",
        "colab": {
          "base_uri": "https://localhost:8080/"
        },
        "outputId": "5c6cb8e0-74c4-4fcf-9644-42c6fc0b53da"
      },
      "source": [
        "df_subset.isna().sum()"
      ],
      "execution_count": 33,
      "outputs": [
        {
          "output_type": "execute_result",
          "data": {
            "text/plain": [
              "UserID         0\n",
              "Memory         0\n",
              "delayed        0\n",
              "clock test     0\n",
              "mental         0\n",
              "attention      0\n",
              "math           0\n",
              "PFS            0\n",
              "Orientation    0\n",
              "score          0\n",
              "age            0\n",
              "date           0\n",
              "dtype: int64"
            ]
          },
          "metadata": {
            "tags": []
          },
          "execution_count": 33
        }
      ]
    },
    {
      "cell_type": "code",
      "metadata": {
        "id": "AZdAbsAmAMLs",
        "colab": {
          "base_uri": "https://localhost:8080/",
          "height": 204
        },
        "outputId": "7fb3b4fe-ae4d-4586-ff16-ac4a5dafe56a"
      },
      "source": [
        "df_subset.head()"
      ],
      "execution_count": 34,
      "outputs": [
        {
          "output_type": "execute_result",
          "data": {
            "text/html": [
              "<div>\n",
              "<style scoped>\n",
              "    .dataframe tbody tr th:only-of-type {\n",
              "        vertical-align: middle;\n",
              "    }\n",
              "\n",
              "    .dataframe tbody tr th {\n",
              "        vertical-align: top;\n",
              "    }\n",
              "\n",
              "    .dataframe thead th {\n",
              "        text-align: right;\n",
              "    }\n",
              "</style>\n",
              "<table border=\"1\" class=\"dataframe\">\n",
              "  <thead>\n",
              "    <tr style=\"text-align: right;\">\n",
              "      <th></th>\n",
              "      <th>UserID</th>\n",
              "      <th>Memory</th>\n",
              "      <th>delayed</th>\n",
              "      <th>clock test</th>\n",
              "      <th>mental</th>\n",
              "      <th>attention</th>\n",
              "      <th>math</th>\n",
              "      <th>PFS</th>\n",
              "      <th>Orientation</th>\n",
              "      <th>score</th>\n",
              "      <th>age</th>\n",
              "      <th>date</th>\n",
              "    </tr>\n",
              "  </thead>\n",
              "  <tbody>\n",
              "    <tr>\n",
              "      <th>0</th>\n",
              "      <td>b001</td>\n",
              "      <td>2.0</td>\n",
              "      <td>5.0</td>\n",
              "      <td>4.0</td>\n",
              "      <td>3.0</td>\n",
              "      <td>2.0</td>\n",
              "      <td>4.0</td>\n",
              "      <td>4.0</td>\n",
              "      <td>3.0</td>\n",
              "      <td>27.0</td>\n",
              "      <td>69.0</td>\n",
              "      <td>5/9/20</td>\n",
              "    </tr>\n",
              "    <tr>\n",
              "      <th>1</th>\n",
              "      <td>b002</td>\n",
              "      <td>2.0</td>\n",
              "      <td>5.0</td>\n",
              "      <td>4.0</td>\n",
              "      <td>3.0</td>\n",
              "      <td>4.0</td>\n",
              "      <td>4.0</td>\n",
              "      <td>5.0</td>\n",
              "      <td>3.0</td>\n",
              "      <td>29.0</td>\n",
              "      <td>61.0</td>\n",
              "      <td>5/11/20</td>\n",
              "    </tr>\n",
              "    <tr>\n",
              "      <th>2</th>\n",
              "      <td>b003</td>\n",
              "      <td>2.0</td>\n",
              "      <td>5.0</td>\n",
              "      <td>4.0</td>\n",
              "      <td>1.0</td>\n",
              "      <td>4.0</td>\n",
              "      <td>4.0</td>\n",
              "      <td>5.0</td>\n",
              "      <td>3.0</td>\n",
              "      <td>29.0</td>\n",
              "      <td>73.0</td>\n",
              "      <td>5/12/20</td>\n",
              "    </tr>\n",
              "    <tr>\n",
              "      <th>4</th>\n",
              "      <td>b005</td>\n",
              "      <td>2.0</td>\n",
              "      <td>5.0</td>\n",
              "      <td>4.0</td>\n",
              "      <td>3.0</td>\n",
              "      <td>4.0</td>\n",
              "      <td>4.0</td>\n",
              "      <td>5.0</td>\n",
              "      <td>3.0</td>\n",
              "      <td>30.0</td>\n",
              "      <td>53.0</td>\n",
              "      <td>5/13/20</td>\n",
              "    </tr>\n",
              "    <tr>\n",
              "      <th>5</th>\n",
              "      <td>b006</td>\n",
              "      <td>2.0</td>\n",
              "      <td>5.0</td>\n",
              "      <td>3.0</td>\n",
              "      <td>2.0</td>\n",
              "      <td>4.0</td>\n",
              "      <td>3.0</td>\n",
              "      <td>4.0</td>\n",
              "      <td>3.0</td>\n",
              "      <td>27.0</td>\n",
              "      <td>65.0</td>\n",
              "      <td>5/13/20</td>\n",
              "    </tr>\n",
              "  </tbody>\n",
              "</table>\n",
              "</div>"
            ],
            "text/plain": [
              "  UserID  Memory  delayed  clock test  ...  Orientation  score   age     date\n",
              "0   b001     2.0      5.0         4.0  ...          3.0   27.0  69.0   5/9/20\n",
              "1   b002     2.0      5.0         4.0  ...          3.0   29.0  61.0  5/11/20\n",
              "2   b003     2.0      5.0         4.0  ...          3.0   29.0  73.0  5/12/20\n",
              "4   b005     2.0      5.0         4.0  ...          3.0   30.0  53.0  5/13/20\n",
              "5   b006     2.0      5.0         3.0  ...          3.0   27.0  65.0  5/13/20\n",
              "\n",
              "[5 rows x 12 columns]"
            ]
          },
          "metadata": {
            "tags": []
          },
          "execution_count": 34
        }
      ]
    },
    {
      "cell_type": "markdown",
      "metadata": {
        "id": "1tlhUl5eGfvM"
      },
      "source": [
        "Convert date to time object\n",
        "Pop dates and age"
      ]
    },
    {
      "cell_type": "code",
      "metadata": {
        "id": "LxLP1GS1A2oE",
        "colab": {
          "base_uri": "https://localhost:8080/"
        },
        "outputId": "f7239974-f460-4686-e701-1388e6f6ef86"
      },
      "source": [
        "df_subset[\"date\"] = pd.to_datetime(df_subset[\"date\"], errors = 'coerce').dt.date"
      ],
      "execution_count": 35,
      "outputs": [
        {
          "output_type": "stream",
          "text": [
            "/usr/local/lib/python3.7/dist-packages/ipykernel_launcher.py:1: SettingWithCopyWarning: \n",
            "A value is trying to be set on a copy of a slice from a DataFrame.\n",
            "Try using .loc[row_indexer,col_indexer] = value instead\n",
            "\n",
            "See the caveats in the documentation: https://pandas.pydata.org/pandas-docs/stable/user_guide/indexing.html#returning-a-view-versus-a-copy\n",
            "  \"\"\"Entry point for launching an IPython kernel.\n"
          ],
          "name": "stderr"
        }
      ]
    },
    {
      "cell_type": "code",
      "metadata": {
        "id": "UI0te3ywPak4"
      },
      "source": [
        "\n",
        "date = df_subset.pop('date')\n",
        "age = df_subset.pop('age')"
      ],
      "execution_count": 36,
      "outputs": []
    },
    {
      "cell_type": "markdown",
      "metadata": {
        "id": "RZqtxBHlBmro"
      },
      "source": [
        "describe"
      ]
    },
    {
      "cell_type": "code",
      "metadata": {
        "id": "7g-ys4PFBl16",
        "colab": {
          "base_uri": "https://localhost:8080/",
          "height": 297
        },
        "outputId": "5f9084cf-c7f7-4f53-895c-245a34711f25"
      },
      "source": [
        "df_subset.describe()"
      ],
      "execution_count": 37,
      "outputs": [
        {
          "output_type": "execute_result",
          "data": {
            "text/html": [
              "<div>\n",
              "<style scoped>\n",
              "    .dataframe tbody tr th:only-of-type {\n",
              "        vertical-align: middle;\n",
              "    }\n",
              "\n",
              "    .dataframe tbody tr th {\n",
              "        vertical-align: top;\n",
              "    }\n",
              "\n",
              "    .dataframe thead th {\n",
              "        text-align: right;\n",
              "    }\n",
              "</style>\n",
              "<table border=\"1\" class=\"dataframe\">\n",
              "  <thead>\n",
              "    <tr style=\"text-align: right;\">\n",
              "      <th></th>\n",
              "      <th>Memory</th>\n",
              "      <th>delayed</th>\n",
              "      <th>clock test</th>\n",
              "      <th>mental</th>\n",
              "      <th>attention</th>\n",
              "      <th>math</th>\n",
              "      <th>PFS</th>\n",
              "      <th>Orientation</th>\n",
              "      <th>score</th>\n",
              "    </tr>\n",
              "  </thead>\n",
              "  <tbody>\n",
              "    <tr>\n",
              "      <th>count</th>\n",
              "      <td>113.000000</td>\n",
              "      <td>113.000000</td>\n",
              "      <td>113.000000</td>\n",
              "      <td>113.000000</td>\n",
              "      <td>113.000000</td>\n",
              "      <td>113.000000</td>\n",
              "      <td>113.000000</td>\n",
              "      <td>113.000000</td>\n",
              "      <td>113.000000</td>\n",
              "    </tr>\n",
              "    <tr>\n",
              "      <th>mean</th>\n",
              "      <td>1.292035</td>\n",
              "      <td>3.938053</td>\n",
              "      <td>3.265487</td>\n",
              "      <td>2.238938</td>\n",
              "      <td>3.194690</td>\n",
              "      <td>3.274336</td>\n",
              "      <td>4.362832</td>\n",
              "      <td>2.707965</td>\n",
              "      <td>24.336283</td>\n",
              "    </tr>\n",
              "    <tr>\n",
              "      <th>std</th>\n",
              "      <td>0.883190</td>\n",
              "      <td>1.422292</td>\n",
              "      <td>1.239367</td>\n",
              "      <td>1.037462</td>\n",
              "      <td>1.092657</td>\n",
              "      <td>1.127955</td>\n",
              "      <td>0.954893</td>\n",
              "      <td>0.763935</td>\n",
              "      <td>6.234424</td>\n",
              "    </tr>\n",
              "    <tr>\n",
              "      <th>min</th>\n",
              "      <td>0.000000</td>\n",
              "      <td>0.000000</td>\n",
              "      <td>0.000000</td>\n",
              "      <td>0.000000</td>\n",
              "      <td>0.000000</td>\n",
              "      <td>0.000000</td>\n",
              "      <td>0.000000</td>\n",
              "      <td>0.000000</td>\n",
              "      <td>3.000000</td>\n",
              "    </tr>\n",
              "    <tr>\n",
              "      <th>25%</th>\n",
              "      <td>0.000000</td>\n",
              "      <td>3.000000</td>\n",
              "      <td>3.000000</td>\n",
              "      <td>2.000000</td>\n",
              "      <td>3.000000</td>\n",
              "      <td>3.000000</td>\n",
              "      <td>4.000000</td>\n",
              "      <td>3.000000</td>\n",
              "      <td>22.000000</td>\n",
              "    </tr>\n",
              "    <tr>\n",
              "      <th>50%</th>\n",
              "      <td>2.000000</td>\n",
              "      <td>4.000000</td>\n",
              "      <td>4.000000</td>\n",
              "      <td>3.000000</td>\n",
              "      <td>4.000000</td>\n",
              "      <td>4.000000</td>\n",
              "      <td>5.000000</td>\n",
              "      <td>3.000000</td>\n",
              "      <td>27.000000</td>\n",
              "    </tr>\n",
              "    <tr>\n",
              "      <th>75%</th>\n",
              "      <td>2.000000</td>\n",
              "      <td>5.000000</td>\n",
              "      <td>4.000000</td>\n",
              "      <td>3.000000</td>\n",
              "      <td>4.000000</td>\n",
              "      <td>4.000000</td>\n",
              "      <td>5.000000</td>\n",
              "      <td>3.000000</td>\n",
              "      <td>29.000000</td>\n",
              "    </tr>\n",
              "    <tr>\n",
              "      <th>max</th>\n",
              "      <td>2.000000</td>\n",
              "      <td>5.000000</td>\n",
              "      <td>4.000000</td>\n",
              "      <td>4.000000</td>\n",
              "      <td>4.000000</td>\n",
              "      <td>4.000000</td>\n",
              "      <td>5.000000</td>\n",
              "      <td>3.000000</td>\n",
              "      <td>30.000000</td>\n",
              "    </tr>\n",
              "  </tbody>\n",
              "</table>\n",
              "</div>"
            ],
            "text/plain": [
              "           Memory     delayed  clock test  ...         PFS  Orientation       score\n",
              "count  113.000000  113.000000  113.000000  ...  113.000000   113.000000  113.000000\n",
              "mean     1.292035    3.938053    3.265487  ...    4.362832     2.707965   24.336283\n",
              "std      0.883190    1.422292    1.239367  ...    0.954893     0.763935    6.234424\n",
              "min      0.000000    0.000000    0.000000  ...    0.000000     0.000000    3.000000\n",
              "25%      0.000000    3.000000    3.000000  ...    4.000000     3.000000   22.000000\n",
              "50%      2.000000    4.000000    4.000000  ...    5.000000     3.000000   27.000000\n",
              "75%      2.000000    5.000000    4.000000  ...    5.000000     3.000000   29.000000\n",
              "max      2.000000    5.000000    4.000000  ...    5.000000     3.000000   30.000000\n",
              "\n",
              "[8 rows x 9 columns]"
            ]
          },
          "metadata": {
            "tags": []
          },
          "execution_count": 37
        }
      ]
    },
    {
      "cell_type": "markdown",
      "metadata": {
        "id": "ROYmpj9mGrOZ"
      },
      "source": [
        "Transpose wide dataframe into long for ICC calculations"
      ]
    },
    {
      "cell_type": "code",
      "metadata": {
        "id": "L3sJCgGvFRBJ",
        "colab": {
          "base_uri": "https://localhost:8080/"
        },
        "outputId": "0a1f0c43-c0fe-4e86-e142-6755e71a0a30"
      },
      "source": [
        "df2 = pd.melt(frame = df_subset,\n",
        "        id_vars = [\"UserID\"],\n",
        "        var_name = \"subtest\",\n",
        "        value_name = \"score\")\n"
      ],
      "execution_count": 38,
      "outputs": [
        {
          "output_type": "stream",
          "text": [
            "/usr/local/lib/python3.7/dist-packages/IPython/core/interactiveshell.py:2882: FutureWarning: This dataframe has a column name that matches the 'value_name' column name of the resultiing Dataframe. In the future this will raise an error, please set the 'value_name' parameter of DataFrame.melt to a unique name.\n",
            "  exec(code_obj, self.user_global_ns, self.user_ns)\n"
          ],
          "name": "stderr"
        }
      ]
    },
    {
      "cell_type": "code",
      "metadata": {
        "id": "McPxf0qHJecj",
        "colab": {
          "base_uri": "https://localhost:8080/",
          "height": 204
        },
        "outputId": "bec66494-ec8f-4bda-a677-2611e2fc37ef"
      },
      "source": [
        "df2.head()"
      ],
      "execution_count": 39,
      "outputs": [
        {
          "output_type": "execute_result",
          "data": {
            "text/html": [
              "<div>\n",
              "<style scoped>\n",
              "    .dataframe tbody tr th:only-of-type {\n",
              "        vertical-align: middle;\n",
              "    }\n",
              "\n",
              "    .dataframe tbody tr th {\n",
              "        vertical-align: top;\n",
              "    }\n",
              "\n",
              "    .dataframe thead th {\n",
              "        text-align: right;\n",
              "    }\n",
              "</style>\n",
              "<table border=\"1\" class=\"dataframe\">\n",
              "  <thead>\n",
              "    <tr style=\"text-align: right;\">\n",
              "      <th></th>\n",
              "      <th>UserID</th>\n",
              "      <th>subtest</th>\n",
              "      <th>score</th>\n",
              "    </tr>\n",
              "  </thead>\n",
              "  <tbody>\n",
              "    <tr>\n",
              "      <th>0</th>\n",
              "      <td>b001</td>\n",
              "      <td>Memory</td>\n",
              "      <td>2.0</td>\n",
              "    </tr>\n",
              "    <tr>\n",
              "      <th>1</th>\n",
              "      <td>b002</td>\n",
              "      <td>Memory</td>\n",
              "      <td>2.0</td>\n",
              "    </tr>\n",
              "    <tr>\n",
              "      <th>2</th>\n",
              "      <td>b003</td>\n",
              "      <td>Memory</td>\n",
              "      <td>2.0</td>\n",
              "    </tr>\n",
              "    <tr>\n",
              "      <th>3</th>\n",
              "      <td>b005</td>\n",
              "      <td>Memory</td>\n",
              "      <td>2.0</td>\n",
              "    </tr>\n",
              "    <tr>\n",
              "      <th>4</th>\n",
              "      <td>b006</td>\n",
              "      <td>Memory</td>\n",
              "      <td>2.0</td>\n",
              "    </tr>\n",
              "  </tbody>\n",
              "</table>\n",
              "</div>"
            ],
            "text/plain": [
              "  UserID subtest  score\n",
              "0   b001  Memory    2.0\n",
              "1   b002  Memory    2.0\n",
              "2   b003  Memory    2.0\n",
              "3   b005  Memory    2.0\n",
              "4   b006  Memory    2.0"
            ]
          },
          "metadata": {
            "tags": []
          },
          "execution_count": 39
        }
      ]
    },
    {
      "cell_type": "code",
      "metadata": {
        "id": "AA1YQJ38BrZE"
      },
      "source": [
        "import pingouin as pg\n",
        "icc = pg.intraclass_corr(data = df2, targets = 'subtest', raters = 'UserID', ratings = 'score', nan_policy= 'omit')"
      ],
      "execution_count": 40,
      "outputs": []
    },
    {
      "cell_type": "code",
      "metadata": {
        "id": "dioDITbKEJAk",
        "colab": {
          "base_uri": "https://localhost:8080/",
          "height": 266
        },
        "outputId": "af8252d2-01d8-4777-bf96-f7de58951b90"
      },
      "source": [
        "icc.set_index('Type')"
      ],
      "execution_count": 41,
      "outputs": [
        {
          "output_type": "execute_result",
          "data": {
            "text/html": [
              "<div>\n",
              "<style scoped>\n",
              "    .dataframe tbody tr th:only-of-type {\n",
              "        vertical-align: middle;\n",
              "    }\n",
              "\n",
              "    .dataframe tbody tr th {\n",
              "        vertical-align: top;\n",
              "    }\n",
              "\n",
              "    .dataframe thead th {\n",
              "        text-align: right;\n",
              "    }\n",
              "</style>\n",
              "<table border=\"1\" class=\"dataframe\">\n",
              "  <thead>\n",
              "    <tr style=\"text-align: right;\">\n",
              "      <th></th>\n",
              "      <th>Description</th>\n",
              "      <th>ICC</th>\n",
              "      <th>F</th>\n",
              "      <th>df1</th>\n",
              "      <th>df2</th>\n",
              "      <th>pval</th>\n",
              "      <th>CI95%</th>\n",
              "    </tr>\n",
              "    <tr>\n",
              "      <th>Type</th>\n",
              "      <th></th>\n",
              "      <th></th>\n",
              "      <th></th>\n",
              "      <th></th>\n",
              "      <th></th>\n",
              "      <th></th>\n",
              "      <th></th>\n",
              "    </tr>\n",
              "  </thead>\n",
              "  <tbody>\n",
              "    <tr>\n",
              "      <th>ICC1</th>\n",
              "      <td>Single raters absolute</td>\n",
              "      <td>0.905197</td>\n",
              "      <td>1079.947290</td>\n",
              "      <td>8</td>\n",
              "      <td>1008</td>\n",
              "      <td>0.0</td>\n",
              "      <td>[0.81, 0.97]</td>\n",
              "    </tr>\n",
              "    <tr>\n",
              "      <th>ICC2</th>\n",
              "      <td>Single random raters</td>\n",
              "      <td>0.905219</td>\n",
              "      <td>1491.385063</td>\n",
              "      <td>8</td>\n",
              "      <td>896</td>\n",
              "      <td>0.0</td>\n",
              "      <td>[0.81, 0.97]</td>\n",
              "    </tr>\n",
              "    <tr>\n",
              "      <th>ICC3</th>\n",
              "      <td>Single fixed raters</td>\n",
              "      <td>0.929524</td>\n",
              "      <td>1491.385063</td>\n",
              "      <td>8</td>\n",
              "      <td>896</td>\n",
              "      <td>0.0</td>\n",
              "      <td>[0.86, 0.98]</td>\n",
              "    </tr>\n",
              "    <tr>\n",
              "      <th>ICC1k</th>\n",
              "      <td>Average raters absolute</td>\n",
              "      <td>0.999074</td>\n",
              "      <td>1079.947290</td>\n",
              "      <td>8</td>\n",
              "      <td>1008</td>\n",
              "      <td>0.0</td>\n",
              "      <td>[1.0, 1.0]</td>\n",
              "    </tr>\n",
              "    <tr>\n",
              "      <th>ICC2k</th>\n",
              "      <td>Average random raters</td>\n",
              "      <td>0.999074</td>\n",
              "      <td>1491.385063</td>\n",
              "      <td>8</td>\n",
              "      <td>896</td>\n",
              "      <td>0.0</td>\n",
              "      <td>[1.0, 1.0]</td>\n",
              "    </tr>\n",
              "    <tr>\n",
              "      <th>ICC3k</th>\n",
              "      <td>Average fixed raters</td>\n",
              "      <td>0.999329</td>\n",
              "      <td>1491.385063</td>\n",
              "      <td>8</td>\n",
              "      <td>896</td>\n",
              "      <td>0.0</td>\n",
              "      <td>[1.0, 1.0]</td>\n",
              "    </tr>\n",
              "  </tbody>\n",
              "</table>\n",
              "</div>"
            ],
            "text/plain": [
              "                   Description       ICC            F  ...   df2  pval         CI95%\n",
              "Type                                                   ...                          \n",
              "ICC1    Single raters absolute  0.905197  1079.947290  ...  1008   0.0  [0.81, 0.97]\n",
              "ICC2      Single random raters  0.905219  1491.385063  ...   896   0.0  [0.81, 0.97]\n",
              "ICC3       Single fixed raters  0.929524  1491.385063  ...   896   0.0  [0.86, 0.98]\n",
              "ICC1k  Average raters absolute  0.999074  1079.947290  ...  1008   0.0    [1.0, 1.0]\n",
              "ICC2k    Average random raters  0.999074  1491.385063  ...   896   0.0    [1.0, 1.0]\n",
              "ICC3k     Average fixed raters  0.999329  1491.385063  ...   896   0.0    [1.0, 1.0]\n",
              "\n",
              "[6 rows x 7 columns]"
            ]
          },
          "metadata": {
            "tags": []
          },
          "execution_count": 41
        }
      ]
    },
    {
      "cell_type": "markdown",
      "metadata": {
        "id": "Xj1s9y5wHa6P"
      },
      "source": [
        "Summary of intraclass correlation coefficients with their accompanying descriptions. "
      ]
    },
    {
      "cell_type": "code",
      "metadata": {
        "id": "M878ydRTKkvh"
      },
      "source": [
        "import sklearn as sk\n",
        "import pandas as pd\n",
        "import numpy as np\n",
        "import scipy as sp"
      ],
      "execution_count": 42,
      "outputs": []
    },
    {
      "cell_type": "code",
      "metadata": {
        "id": "kI-wqUxmLGcN"
      },
      "source": [
        "import statsmodels.formula.api as sm\n",
        "from sklearn.preprocessing import StandardScaler\n"
      ],
      "execution_count": 44,
      "outputs": []
    },
    {
      "cell_type": "code",
      "metadata": {
        "id": "T1iyGMvuSy23"
      },
      "source": [
        "import pandas as pd\n",
        "import seaborn as sns\n",
        "import statsmodels.formula.api as smf\n",
        "from sklearn.linear_model import LinearRegression\n",
        "from sklearn import metrics\n",
        "#from sklearn.cross_validation import train_test_split\n",
        "import numpy as np\n",
        "\n",
        "# allow plots to appear directly in the notebook\n",
        "%matplotlib inline"
      ],
      "execution_count": 45,
      "outputs": []
    },
    {
      "cell_type": "markdown",
      "metadata": {
        "id": "Wfe8AuJpHu2f"
      },
      "source": [
        "Principle Component Analysis\n",
        "\n",
        "Identifying features and the target (total score - 'score')"
      ]
    },
    {
      "cell_type": "code",
      "metadata": {
        "id": "5Te9yFv1LIpv"
      },
      "source": [
        "df3 = df_subset.copy() #create a new dataframe \n",
        "df3 = df3.rename(columns={'clock test' : 'clock'}) #easier format \n"
      ],
      "execution_count": 47,
      "outputs": []
    },
    {
      "cell_type": "markdown",
      "metadata": {
        "id": "A2JSLZPdIBdE"
      },
      "source": [
        "Regression plot of each subscale against total score "
      ]
    },
    {
      "cell_type": "code",
      "metadata": {
        "id": "XefFsFNxScnZ",
        "colab": {
          "base_uri": "https://localhost:8080/",
          "height": 337
        },
        "outputId": "75e6ce49-c784-489e-9dd6-57d6fcea283c"
      },
      "source": [
        "sns.pairplot(df3, x_vars=['Memory', 'delayed' ,'clock',\t'mental',\t'math', 'attention',\t'PFS',\t'Orientation'], y_vars='score', size=7, aspect=0.7, kind = 'reg')"
      ],
      "execution_count": 48,
      "outputs": [
        {
          "output_type": "stream",
          "text": [
            "/usr/local/lib/python3.7/dist-packages/seaborn/axisgrid.py:1969: UserWarning: The `size` parameter has been renamed to `height`; please update your code.\n",
            "  warnings.warn(msg, UserWarning)\n"
          ],
          "name": "stderr"
        },
        {
          "output_type": "execute_result",
          "data": {
            "text/plain": [
              "<seaborn.axisgrid.PairGrid at 0x7ff71b183550>"
            ]
          },
          "metadata": {
            "tags": []
          },
          "execution_count": 48
        },
        {
          "output_type": "display_data",
          "data": {
            "image/png": "[encoded data removed]",
            "text/plain": [
              "<Figure size 2822.4x504 with 8 Axes>"
            ]
          },
          "metadata": {
            "tags": [],
            "needs_background": "light"
          }
        }
      ]
    },
    {
      "cell_type": "code",
      "metadata": {
        "colab": {
          "base_uri": "https://localhost:8080/",
          "height": 333
        },
        "id": "8JbAzxvFJmHQ",
        "outputId": "c792a8cb-7249-4e03-d235-2e6fe125e6b5"
      },
      "source": [
        "#correlation:\n",
        "\n",
        "df_cor = df3[['Memory', 'delayed' ,'clock',\t'mental',\t'math', 'attention',\t'PFS',\t'Orientation', 'score']]\n",
        "\n",
        "cor = df_cor.corr()\n",
        "cor\n",
        "sns.heatmap(cor, square = True) #Plotting correlation as heat map, lighter shade represents high correlation"
      ],
      "execution_count": 58,
      "outputs": [
        {
          "output_type": "execute_result",
          "data": {
            "text/plain": [
              "<matplotlib.axes._subplots.AxesSubplot at 0x7ff712ecf750>"
            ]
          },
          "metadata": {
            "tags": []
          },
          "execution_count": 58
        },
        {
          "output_type": "display_data",
          "data": {
            "image/png": "[encoded data removed]",
            "text/plain": [
              "<Figure size 432x288 with 2 Axes>"
            ]
          },
          "metadata": {
            "tags": [],
            "needs_background": "light"
          }
        }
      ]
    },
    {
      "cell_type": "code",
      "metadata": {
        "id": "eNwDabXlyEqz"
      },
      "source": [
        "feature_cols = ['Memory', 'delayed' ,'clock',\t'mental',\t'math', 'attention',\t'PFS',\t'Orientation'] #features\n",
        "X = df3[feature_cols] \n",
        "y = df3.score #target\n"
      ],
      "execution_count": 50,
      "outputs": []
    },
    {
      "cell_type": "markdown",
      "metadata": {
        "id": "GbL_fTcQIQYQ"
      },
      "source": [
        "Standardize (normalizing each feature) and the total score"
      ]
    },
    {
      "cell_type": "code",
      "metadata": {
        "id": "PuRsLZcvIOsy"
      },
      "source": [
        "def normalize(feature):\n",
        "  return (feature - feature.mean()) / feature.std()\n",
        "cont_norm_x = normalize(X)\n",
        "\n",
        "cont_norm_y = normalize(y)"
      ],
      "execution_count": 60,
      "outputs": []
    },
    {
      "cell_type": "markdown",
      "metadata": {
        "id": "E9V2AoY7Iemy"
      },
      "source": [
        "Append the standardized score to the continuous standardized feature dataframe"
      ]
    },
    {
      "cell_type": "code",
      "metadata": {
        "id": "C-nowsMhyp7Z"
      },
      "source": [
        "#cont_norm_x['score'] = cont_norm_y\n",
        "#df_norm = cont_norm_x.copy()"
      ],
      "execution_count": 52,
      "outputs": []
    },
    {
      "cell_type": "markdown",
      "metadata": {
        "id": "8tb60lrgJBWw"
      },
      "source": [
        "Linear Regression "
      ]
    },
    {
      "cell_type": "code",
      "metadata": {
        "id": "ae-N5H2qWIKU"
      },
      "source": [
        "from sklearn.model_selection import train_test_split\n",
        "X_train,X_test,y_train,y_test=train_test_split(X,Y,random_state = 1)\n",
        "from numpy import set_printoptions\n",
        "from sklearn.feature_selection import SelectKBest\n",
        "from sklearn.feature_selection import f_classif\n",
        "from sklearn.linear_model import LinearRegression\n",
        "from sklearn.feature_selection import RFE\n",
        "from sklearn.ensemble import GradientBoostingClassifier\n",
        "import matplotlib.pyplot as plt\n",
        "from sklearn.pipeline import Pipeline\n",
        "from sklearn.model_selection import RepeatedStratifiedKFold\n",
        "from sklearn.model_selection import cross_val_score\n",
        "from sklearn.feature_selection import RFE"
      ],
      "execution_count": 54,
      "outputs": []
    },
    {
      "cell_type": "code",
      "metadata": {
        "id": "Jr_0iR3Ti5fU"
      },
      "source": [
        "#unstandardized dataframe is 'df3' where feature columns are 'X' and target is 'y'\n",
        "#standardized dataframe is 'df_norm' where feature columns are 'cont_norm_x' and target is 'cont_norm_y'\n",
        "#Test each continus variable as a standalone linear regression. (Unstandardized)\n",
        "col_names = X.select_dtypes('float').columns\n",
        "results = [['ind_var', 'r_squared', 'intercept', 'slope', 'p-value' ]]\n",
        "for idx, val in enumerate(col_names):\n",
        "    print (\"score~\" + val)\n",
        "    print (\"------------------------------\")\n",
        "\n",
        "    f = 'score~' + val\n",
        "    model = smf.ols(formula=f, data=df3).fit()\n",
        "    X_new = pd.DataFrame({val: [X[val].min(), X[val].max()]});\n",
        "    preds = model.predict(X_new)\n",
        "    results.append([val, model.rsquared, model.params[0], model.params[1], model.pvalues[1] ])\n",
        "    print(results[idx+1])"
      ],
      "execution_count": null,
      "outputs": []
    },
    {
      "cell_type": "code",
      "metadata": {
        "id": "6hYdxpsfjqZC"
      },
      "source": [
        "def lin_reg(X, y):  \n",
        "    X_train, X_test, y_train, y_test = train_test_split(X, y, test_size=0.25)\n",
        "    regressor = LinearRegression()\n",
        "    regressor.fit(X_train, y_train)\n",
        "    y_pred = regressor.predict(X_test)\n",
        "    print(regressor.intercept_)\n",
        "    print(regressor.coef_)\n",
        "    df = pd.DataFrame({'Actual': y_test, 'Predicted': y_pred})\n",
        "    print(df)\n",
        "    from sklearn import metrics\n",
        "    print('Mean Absolute Error:', metrics.mean_absolute_error(y_test, y_pred))\n",
        "    print('Mean Squared Error:', metrics.mean_squared_error(y_test, y_pred))\n",
        "    print('Root Mean Squared Error:', np.sqrt(metrics.mean_squared_error(y_test, y_pred)))\n"
      ],
      "execution_count": 61,
      "outputs": []
    },
    {
      "cell_type": "markdown",
      "metadata": {
        "id": "bOWEKV9EKvbh"
      },
      "source": [
        "Unstandardized linear regression test/train set "
      ]
    },
    {
      "cell_type": "code",
      "metadata": {
        "colab": {
          "base_uri": "https://localhost:8080/"
        },
        "id": "YFOlyXjKKvJ0",
        "outputId": "da14ec51-f597-440a-8b59-1884b07894be"
      },
      "source": [
        "lin_reg(X, y)"
      ],
      "execution_count": 62,
      "outputs": [
        {
          "output_type": "stream",
          "text": [
            "0.015398544583373308\n",
            "[1.07069885 1.00572533 0.97588206 1.00454512 0.91923463 1.01847693\n",
            " 1.03211111 1.03442338]\n",
            "     Actual  Predicted\n",
            "106    27.0  27.008723\n",
            "32     25.0  25.137165\n",
            "92     22.0  22.016428\n",
            "41     27.0  27.161070\n",
            "17     30.0  30.117258\n",
            "20     30.0  30.117258\n",
            "133    28.0  28.080305\n",
            "1      29.0  30.117258\n",
            "30     30.0  30.117258\n",
            "66     27.0  27.103540\n",
            "116    25.0  25.094450\n",
            "132    30.0  30.117258\n",
            "97     20.0  19.978557\n",
            "63     21.0  21.016019\n",
            "10     29.0  29.141376\n",
            "113    27.0  26.970135\n",
            "70     17.0  17.404054\n",
            "39     30.0  30.117258\n",
            "103    24.0  23.994790\n",
            "101    27.0  27.159769\n",
            "68     26.0  26.155642\n",
            "33     29.0  29.098781\n",
            "69     26.0  25.136033\n",
            "108    27.0  27.052201\n",
            "117    28.0  28.105808\n",
            "8      29.0  29.141376\n",
            "125    30.0  30.117258\n",
            "26     30.0  30.117258\n",
            "24     30.0  30.117258\n",
            "Mean Absolute Error: 0.16732818301812863\n",
            "Mean Squared Error: 0.08462735484970935\n",
            "Root Mean Squared Error: 0.29090781159967044\n"
          ],
          "name": "stdout"
        }
      ]
    },
    {
      "cell_type": "markdown",
      "metadata": {
        "id": "bhElf7HDK2Ei"
      },
      "source": [
        "Standardized linear regression "
      ]
    },
    {
      "cell_type": "code",
      "metadata": {
        "colab": {
          "base_uri": "https://localhost:8080/"
        },
        "id": "smx8ilfBK1SE",
        "outputId": "19776500-36dc-457d-823d-ac7bd621371a"
      },
      "source": [
        "lin_reg(cont_norm_x, cont_norm_y)"
      ],
      "execution_count": 63,
      "outputs": [
        {
          "output_type": "stream",
          "text": [
            "0.004319301434026972\n",
            "[0.15136247 0.22841494 0.19514263 0.15943044 0.15757288 0.17554588\n",
            " 0.16612443 0.12755433]\n",
            "       Actual  Predicted\n",
            "66   0.427259   0.427146\n",
            "34   0.748059   0.761714\n",
            "123  0.908459   0.919168\n",
            "101  0.427259   0.443664\n",
            "43   0.587659   0.587743\n",
            "74   0.266860   0.300741\n",
            "19   0.748059   0.758571\n",
            "5    0.427259   0.294371\n",
            "93   0.427259   0.465137\n",
            "89   0.908459   0.919168\n",
            "9    0.587659   0.584600\n",
            "187 -2.941135  -2.882597\n",
            "189 -0.053940  -0.023642\n",
            "116  0.106460   0.119799\n",
            "26   0.908459   0.919168\n",
            "75  -2.620335  -2.565736\n",
            "113  0.427259   0.415808\n",
            "114  0.587659   0.601055\n",
            "132  0.908459   0.919168\n",
            "104 -0.855938  -0.809766\n",
            "80  -1.176738  -1.155574\n",
            "41   0.427259   0.458151\n",
            "64   0.106460   0.094616\n",
            "25  -0.695539  -0.579291\n",
            "83  -1.497537  -1.533305\n",
            "47   0.587659   0.608041\n",
            "186 -1.978737  -1.971549\n",
            "70  -1.176738  -1.096643\n",
            "99  -1.176738  -1.141092\n",
            "Mean Absolute Error: 0.030287250837838148\n",
            "Mean Squared Error: 0.0019210541308675485\n",
            "Root Mean Squared Error: 0.0438298315176724\n"
          ],
          "name": "stdout"
        }
      ]
    },
    {
      "cell_type": "markdown",
      "metadata": {
        "id": "o-502r5YLAWq"
      },
      "source": [
        "Feature selection for linear regression "
      ]
    },
    {
      "cell_type": "markdown",
      "metadata": {
        "id": "XtD5K1-OLKLx"
      },
      "source": [
        "Unstandardized linear regression feature selection "
      ]
    },
    {
      "cell_type": "code",
      "metadata": {
        "id": "dSMjEOFOWRUi",
        "colab": {
          "base_uri": "https://localhost:8080/"
        },
        "outputId": "f535f492-d0d7-47d4-fd76-8f7280a32f5e"
      },
      "source": [
        "model = LinearRegression()\n",
        "rfe_notstand = RFE(model, 3) #choosing top three features\n",
        "fit_notstand = rfe_notstand.fit(X, y)\n",
        "print(\"Num Features: %d\" % fit_notstand.n_features_)\n",
        "print(\"Selected Features: %s\" % fit_notstand.support_)\n",
        "print(\"Feature Ranking: %s\" % fit_notstand.ranking_)"
      ],
      "execution_count": 64,
      "outputs": [
        {
          "output_type": "stream",
          "text": [
            "Num Features: 3\n",
            "Selected Features: [ True False  True False False  True False False]\n",
            "Feature Ranking: [1 5 1 2 6 1 4 3]\n"
          ],
          "name": "stdout"
        }
      ]
    },
    {
      "cell_type": "markdown",
      "metadata": {
        "id": "850AP-wVLOIF"
      },
      "source": [
        "Standardized linear regression feature selection"
      ]
    },
    {
      "cell_type": "code",
      "metadata": {
        "colab": {
          "base_uri": "https://localhost:8080/"
        },
        "id": "yEf8VHpELQMc",
        "outputId": "f6646875-3c94-415a-b33c-7781e12741b2"
      },
      "source": [
        "rfe_stand = RFE(model, 3) #choosing top three features\n",
        "fit_stand = rfe_stand.fit(X, y)\n",
        "print(\"Num Features: %d\" % fit_stand.n_features_)\n",
        "print(\"Selected Features: %s\" % fit_stand.support_)\n",
        "print(\"Feature Ranking: %s\" % fit_stand.ranking_)"
      ],
      "execution_count": 65,
      "outputs": [
        {
          "output_type": "stream",
          "text": [
            "Num Features: 3\n",
            "Selected Features: [ True False  True False False  True False False]\n",
            "Feature Ranking: [1 5 1 2 6 1 4 3]\n"
          ],
          "name": "stdout"
        }
      ]
    },
    {
      "cell_type": "markdown",
      "metadata": {
        "id": "UPd-WepwLta5"
      },
      "source": [
        "Features that are correlated to the ranks given by the recursive feature selection algo are 'memory, clock, attention'"
      ]
    },
    {
      "cell_type": "code",
      "metadata": {
        "id": "P3nppHmkTTHx"
      },
      "source": [
        "features_subset = ['Memory', 'clock',\t'attention']\n",
        "df_features = cont_norm_x[features_subset] #taking the feature columns from the standardized dataframe\n",
        "df_features['score'] = cont_norm_y\n",
        "#appending standardized score to the standardized feature dataframe\n",
        "df_norm = cont_norm_x.copy()\n",
        "df_norm['score'] = cont_norm_y\n",
        "\n",
        "#Comparing the models with 'lm1' that includes all of the features and 'lm3' that includes those that were selected from RFE\n",
        "lm1 = smf.ols(formula='score ~ Memory + delayed + clock + mental + math + attention + PFS + Orientation', data= df_norm).fit()\n",
        "lm3 = smf.ols(formula = 'score ~ Memory + clock + attention', data = df_features).fit()\n",
        "\n",
        "#extract predicted values from the models\n",
        "all_pred = lm1.predict(X)\n",
        "feature_pred = lm3.predict(X_RFE)\n",
        "\n",
        "\n",
        "print(lm1.mse_total)\n",
        "print(lm3.mse_total)\n",
        "\n"
      ],
      "execution_count": null,
      "outputs": []
    },
    {
      "cell_type": "markdown",
      "metadata": {
        "id": "nVEFmBuBNeyN"
      },
      "source": [
        "Print MAE, MSE, RMSE from both models"
      ]
    },
    {
      "cell_type": "code",
      "metadata": {
        "id": "nrnFzVMWve-h",
        "colab": {
          "base_uri": "https://localhost:8080/"
        },
        "outputId": "01430c6f-ba9d-4794-ed54-268b2046ccef"
      },
      "source": [
        "lm1_fitted = lm1.fittedvalues\n",
        "lm3_fitted = lm3.fittedvalues\n",
        "\n",
        "print('Mean Absolute Error all:', metrics.mean_absolute_error(lm1_fitted , all_pred))\n",
        "print('Mean Squared Error all:', metrics.mean_squared_error(lm1_fitted, all_pred))\n",
        "print('Root Mean Squared Error all:', np.sqrt(metrics.mean_squared_error(lm1_fitted, all_pred)))\n",
        "\n",
        "\n",
        "print('Mean Absolute Error 3:', metrics.mean_absolute_error(lm3_fitted,feature_pred))\n",
        "print('Mean Squared Error 3:', metrics.mean_squared_error(lm3_fitted, feature_pred))\n",
        "print('Root Mean Squared Error 3:', np.sqrt(metrics.mean_squared_error(lm3_fitted, feature_pred)))\n"
      ],
      "execution_count": 71,
      "outputs": [
        {
          "output_type": "stream",
          "text": [
            "Mean Absolute Error all: 4.2527401494298065\n",
            "Mean Squared Error all: 18.10086040126291\n",
            "Root Mean Squared Error all: 4.254510594799702\n",
            "Mean Absolute Error 3: 0.0\n",
            "Mean Squared Error 3: 0.0\n",
            "Root Mean Squared Error 3: 0.0\n"
          ],
          "name": "stdout"
        }
      ]
    },
    {
      "cell_type": "code",
      "metadata": {
        "id": "wHfLWGJrzJDc",
        "colab": {
          "base_uri": "https://localhost:8080/",
          "height": 591
        },
        "outputId": "72fb204c-1a07-4a03-d51b-372189939ab9"
      },
      "source": [
        "lm1.summary()"
      ],
      "execution_count": 72,
      "outputs": [
        {
          "output_type": "execute_result",
          "data": {
            "text/html": [
              "<table class=\"simpletable\">\n",
              "<caption>OLS Regression Results</caption>\n",
              "<tr>\n",
              "  <th>Dep. Variable:</th>          <td>score</td>      <th>  R-squared:         </th> <td>   0.995</td> \n",
              "</tr>\n",
              "<tr>\n",
              "  <th>Model:</th>                   <td>OLS</td>       <th>  Adj. R-squared:    </th> <td>   0.995</td> \n",
              "</tr>\n",
              "<tr>\n",
              "  <th>Method:</th>             <td>Least Squares</td>  <th>  F-statistic:       </th> <td>   2597.</td> \n",
              "</tr>\n",
              "<tr>\n",
              "  <th>Date:</th>             <td>Tue, 17 Aug 2021</td> <th>  Prob (F-statistic):</th> <td>4.70e-116</td>\n",
              "</tr>\n",
              "<tr>\n",
              "  <th>Time:</th>                 <td>22:24:40</td>     <th>  Log-Likelihood:    </th> <td>  139.73</td> \n",
              "</tr>\n",
              "<tr>\n",
              "  <th>No. Observations:</th>      <td>   113</td>      <th>  AIC:               </th> <td>  -261.5</td> \n",
              "</tr>\n",
              "<tr>\n",
              "  <th>Df Residuals:</th>          <td>   104</td>      <th>  BIC:               </th> <td>  -236.9</td> \n",
              "</tr>\n",
              "<tr>\n",
              "  <th>Df Model:</th>              <td>     8</td>      <th>                     </th>     <td> </td>    \n",
              "</tr>\n",
              "<tr>\n",
              "  <th>Covariance Type:</th>      <td>nonrobust</td>    <th>                     </th>     <td> </td>    \n",
              "</tr>\n",
              "</table>\n",
              "<table class=\"simpletable\">\n",
              "<tr>\n",
              "       <td></td>          <th>coef</th>     <th>std err</th>      <th>t</th>      <th>P>|t|</th>  <th>[0.025</th>    <th>0.975]</th>  \n",
              "</tr>\n",
              "<tr>\n",
              "  <th>Intercept</th>   <td> 2.356e-16</td> <td>    0.007</td> <td> 3.42e-14</td> <td> 1.000</td> <td>   -0.014</td> <td>    0.014</td>\n",
              "</tr>\n",
              "<tr>\n",
              "  <th>Memory</th>      <td>    0.1495</td> <td>    0.010</td> <td>   15.367</td> <td> 0.000</td> <td>    0.130</td> <td>    0.169</td>\n",
              "</tr>\n",
              "<tr>\n",
              "  <th>delayed</th>     <td>    0.2309</td> <td>    0.010</td> <td>   23.738</td> <td> 0.000</td> <td>    0.212</td> <td>    0.250</td>\n",
              "</tr>\n",
              "<tr>\n",
              "  <th>clock</th>       <td>    0.1978</td> <td>    0.010</td> <td>   20.254</td> <td> 0.000</td> <td>    0.178</td> <td>    0.217</td>\n",
              "</tr>\n",
              "<tr>\n",
              "  <th>mental</th>      <td>    0.1622</td> <td>    0.008</td> <td>   19.986</td> <td> 0.000</td> <td>    0.146</td> <td>    0.178</td>\n",
              "</tr>\n",
              "<tr>\n",
              "  <th>math</th>        <td>    0.1675</td> <td>    0.009</td> <td>   18.502</td> <td> 0.000</td> <td>    0.150</td> <td>    0.185</td>\n",
              "</tr>\n",
              "<tr>\n",
              "  <th>attention</th>   <td>    0.1773</td> <td>    0.010</td> <td>   17.170</td> <td> 0.000</td> <td>    0.157</td> <td>    0.198</td>\n",
              "</tr>\n",
              "<tr>\n",
              "  <th>PFS</th>         <td>    0.1589</td> <td>    0.009</td> <td>   17.438</td> <td> 0.000</td> <td>    0.141</td> <td>    0.177</td>\n",
              "</tr>\n",
              "<tr>\n",
              "  <th>Orientation</th> <td>    0.1232</td> <td>    0.010</td> <td>   12.090</td> <td> 0.000</td> <td>    0.103</td> <td>    0.143</td>\n",
              "</tr>\n",
              "</table>\n",
              "<table class=\"simpletable\">\n",
              "<tr>\n",
              "  <th>Omnibus:</th>       <td>174.181</td> <th>  Durbin-Watson:     </th> <td>   2.154</td> \n",
              "</tr>\n",
              "<tr>\n",
              "  <th>Prob(Omnibus):</th> <td> 0.000</td>  <th>  Jarque-Bera (JB):  </th> <td>11395.002</td>\n",
              "</tr>\n",
              "<tr>\n",
              "  <th>Skew:</th>          <td> 5.845</td>  <th>  Prob(JB):          </th> <td>    0.00</td> \n",
              "</tr>\n",
              "<tr>\n",
              "  <th>Kurtosis:</th>      <td>50.786</td>  <th>  Cond. No.          </th> <td>    3.78</td> \n",
              "</tr>\n",
              "</table><br/><br/>Notes:<br/>[1] Standard Errors assume that the covariance matrix of the errors is correctly specified."
            ],
            "text/plain": [
              "<class 'statsmodels.iolib.summary.Summary'>\n",
              "\"\"\"\n",
              "                            OLS Regression Results                            \n",
              "==============================================================================\n",
              "Dep. Variable:                  score   R-squared:                       0.995\n",
              "Model:                            OLS   Adj. R-squared:                  0.995\n",
              "Method:                 Least Squares   F-statistic:                     2597.\n",
              "Date:                Tue, 17 Aug 2021   Prob (F-statistic):          4.70e-116\n",
              "Time:                        22:24:40   Log-Likelihood:                 139.73\n",
              "No. Observations:                 113   AIC:                            -261.5\n",
              "Df Residuals:                     104   BIC:                            -236.9\n",
              "Df Model:                           8                                         \n",
              "Covariance Type:            nonrobust                                         \n",
              "===============================================================================\n",
              "                  coef    std err          t      P>|t|      [0.025      0.975]\n",
              "-------------------------------------------------------------------------------\n",
              "Intercept    2.356e-16      0.007   3.42e-14      1.000      -0.014       0.014\n",
              "Memory          0.1495      0.010     15.367      0.000       0.130       0.169\n",
              "delayed         0.2309      0.010     23.738      0.000       0.212       0.250\n",
              "clock           0.1978      0.010     20.254      0.000       0.178       0.217\n",
              "mental          0.1622      0.008     19.986      0.000       0.146       0.178\n",
              "math            0.1675      0.009     18.502      0.000       0.150       0.185\n",
              "attention       0.1773      0.010     17.170      0.000       0.157       0.198\n",
              "PFS             0.1589      0.009     17.438      0.000       0.141       0.177\n",
              "Orientation     0.1232      0.010     12.090      0.000       0.103       0.143\n",
              "==============================================================================\n",
              "Omnibus:                      174.181   Durbin-Watson:                   2.154\n",
              "Prob(Omnibus):                  0.000   Jarque-Bera (JB):            11395.002\n",
              "Skew:                           5.845   Prob(JB):                         0.00\n",
              "Kurtosis:                      50.786   Cond. No.                         3.78\n",
              "==============================================================================\n",
              "\n",
              "Notes:\n",
              "[1] Standard Errors assume that the covariance matrix of the errors is correctly specified.\n",
              "\"\"\""
            ]
          },
          "metadata": {
            "tags": []
          },
          "execution_count": 72
        }
      ]
    },
    {
      "cell_type": "code",
      "metadata": {
        "id": "zCeDfbOOzLSZ",
        "colab": {
          "base_uri": "https://localhost:8080/",
          "height": 486
        },
        "outputId": "4c4ff80a-c3d4-4627-ddc6-2b778e1e7b0e"
      },
      "source": [
        "lm3.summary()"
      ],
      "execution_count": 73,
      "outputs": [
        {
          "output_type": "execute_result",
          "data": {
            "text/html": [
              "<table class=\"simpletable\">\n",
              "<caption>OLS Regression Results</caption>\n",
              "<tr>\n",
              "  <th>Dep. Variable:</th>          <td>score</td>      <th>  R-squared:         </th> <td>   0.863</td>\n",
              "</tr>\n",
              "<tr>\n",
              "  <th>Model:</th>                   <td>OLS</td>       <th>  Adj. R-squared:    </th> <td>   0.859</td>\n",
              "</tr>\n",
              "<tr>\n",
              "  <th>Method:</th>             <td>Least Squares</td>  <th>  F-statistic:       </th> <td>   228.2</td>\n",
              "</tr>\n",
              "<tr>\n",
              "  <th>Date:</th>             <td>Tue, 17 Aug 2021</td> <th>  Prob (F-statistic):</th> <td>8.00e-47</td>\n",
              "</tr>\n",
              "<tr>\n",
              "  <th>Time:</th>                 <td>22:25:33</td>     <th>  Log-Likelihood:    </th> <td> -47.671</td>\n",
              "</tr>\n",
              "<tr>\n",
              "  <th>No. Observations:</th>      <td>   113</td>      <th>  AIC:               </th> <td>   103.3</td>\n",
              "</tr>\n",
              "<tr>\n",
              "  <th>Df Residuals:</th>          <td>   109</td>      <th>  BIC:               </th> <td>   114.3</td>\n",
              "</tr>\n",
              "<tr>\n",
              "  <th>Df Model:</th>              <td>     3</td>      <th>                     </th>     <td> </td>   \n",
              "</tr>\n",
              "<tr>\n",
              "  <th>Covariance Type:</th>      <td>nonrobust</td>    <th>                     </th>     <td> </td>   \n",
              "</tr>\n",
              "</table>\n",
              "<table class=\"simpletable\">\n",
              "<tr>\n",
              "      <td></td>         <th>coef</th>     <th>std err</th>      <th>t</th>      <th>P>|t|</th>  <th>[0.025</th>    <th>0.975]</th>  \n",
              "</tr>\n",
              "<tr>\n",
              "  <th>Intercept</th> <td> 2.356e-16</td> <td>    0.035</td> <td> 6.67e-15</td> <td> 1.000</td> <td>   -0.070</td> <td>    0.070</td>\n",
              "</tr>\n",
              "<tr>\n",
              "  <th>Memory</th>    <td>    0.3385</td> <td>    0.044</td> <td>    7.675</td> <td> 0.000</td> <td>    0.251</td> <td>    0.426</td>\n",
              "</tr>\n",
              "<tr>\n",
              "  <th>clock</th>     <td>    0.4187</td> <td>    0.043</td> <td>    9.778</td> <td> 0.000</td> <td>    0.334</td> <td>    0.504</td>\n",
              "</tr>\n",
              "<tr>\n",
              "  <th>attention</th> <td>    0.3724</td> <td>    0.046</td> <td>    8.107</td> <td> 0.000</td> <td>    0.281</td> <td>    0.463</td>\n",
              "</tr>\n",
              "</table>\n",
              "<table class=\"simpletable\">\n",
              "<tr>\n",
              "  <th>Omnibus:</th>       <td> 9.207</td> <th>  Durbin-Watson:     </th> <td>   2.008</td>\n",
              "</tr>\n",
              "<tr>\n",
              "  <th>Prob(Omnibus):</th> <td> 0.010</td> <th>  Jarque-Bera (JB):  </th> <td>   9.549</td>\n",
              "</tr>\n",
              "<tr>\n",
              "  <th>Skew:</th>          <td>-0.559</td> <th>  Prob(JB):          </th> <td> 0.00844</td>\n",
              "</tr>\n",
              "<tr>\n",
              "  <th>Kurtosis:</th>      <td> 3.881</td> <th>  Cond. No.          </th> <td>    2.18</td>\n",
              "</tr>\n",
              "</table><br/><br/>Notes:<br/>[1] Standard Errors assume that the covariance matrix of the errors is correctly specified."
            ],
            "text/plain": [
              "<class 'statsmodels.iolib.summary.Summary'>\n",
              "\"\"\"\n",
              "                            OLS Regression Results                            \n",
              "==============================================================================\n",
              "Dep. Variable:                  score   R-squared:                       0.863\n",
              "Model:                            OLS   Adj. R-squared:                  0.859\n",
              "Method:                 Least Squares   F-statistic:                     228.2\n",
              "Date:                Tue, 17 Aug 2021   Prob (F-statistic):           8.00e-47\n",
              "Time:                        22:25:33   Log-Likelihood:                -47.671\n",
              "No. Observations:                 113   AIC:                             103.3\n",
              "Df Residuals:                     109   BIC:                             114.3\n",
              "Df Model:                           3                                         \n",
              "Covariance Type:            nonrobust                                         \n",
              "==============================================================================\n",
              "                 coef    std err          t      P>|t|      [0.025      0.975]\n",
              "------------------------------------------------------------------------------\n",
              "Intercept   2.356e-16      0.035   6.67e-15      1.000      -0.070       0.070\n",
              "Memory         0.3385      0.044      7.675      0.000       0.251       0.426\n",
              "clock          0.4187      0.043      9.778      0.000       0.334       0.504\n",
              "attention      0.3724      0.046      8.107      0.000       0.281       0.463\n",
              "==============================================================================\n",
              "Omnibus:                        9.207   Durbin-Watson:                   2.008\n",
              "Prob(Omnibus):                  0.010   Jarque-Bera (JB):                9.549\n",
              "Skew:                          -0.559   Prob(JB):                      0.00844\n",
              "Kurtosis:                       3.881   Cond. No.                         2.18\n",
              "==============================================================================\n",
              "\n",
              "Notes:\n",
              "[1] Standard Errors assume that the covariance matrix of the errors is correctly specified.\n",
              "\"\"\""
            ]
          },
          "metadata": {
            "tags": []
          },
          "execution_count": 73
        }
      ]
    },
    {
      "cell_type": "code",
      "metadata": {
        "id": "B72Q_VIBN1D7"
      },
      "source": [
        "from sklearn.model_selection import train_test_split\n",
        "X_train,X_test,y_train,y_test=train_test_split(X,Y,random_state = 1)\n",
        "import matplotlib.pyplot as plt\n",
        "from sklearn.pipeline import Pipeline\n",
        "from sklearn.model_selection import RepeatedStratifiedKFold\n",
        "from sklearn.model_selection import cross_val_score\n",
        "from sklearn.feature_selection import RFE\n",
        "from sklearn.decomposition import PCA"
      ],
      "execution_count": 75,
      "outputs": []
    },
    {
      "cell_type": "markdown",
      "metadata": {
        "id": "LAxXRsWROlKC"
      },
      "source": [
        "Principle Component Analysis"
      ]
    },
    {
      "cell_type": "code",
      "metadata": {
        "id": "Hw0XReukXKhm"
      },
      "source": [
        "pca = PCA(n_components=3)\n",
        "fit = pca.fit_transform(cont_norm_x)\n",
        "# summarize components\n",
        "#print(\"Explained Variance: %s\" % fit.explained_variance_ratio_)\n",
        "#print(fit.components_)\n",
        "#fit.n_components_\n",
        "pca_components = pd.DataFrame(pca.components_,columns=X.columns,index = ['PC-1','PC-2', 'PC-3'])"
      ],
      "execution_count": 76,
      "outputs": []
    },
    {
      "cell_type": "code",
      "metadata": {
        "id": "Jo9Lv1jgUj5e",
        "colab": {
          "base_uri": "https://localhost:8080/"
        },
        "outputId": "6527ac84-02cc-4a60-babf-1b2c5347b515"
      },
      "source": [
        "pd.set_option('display.max_columns', None)\n",
        "print(pca_components)"
      ],
      "execution_count": 77,
      "outputs": [
        {
          "output_type": "stream",
          "text": [
            "        Memory   delayed     clock    mental      math  attention       PFS  \\\n",
            "PC-1 -0.362620 -0.351677 -0.369510 -0.274440 -0.342693  -0.386418 -0.346163   \n",
            "PC-2  0.209328  0.061166  0.198716 -0.856489 -0.302017   0.198012  0.019874   \n",
            "PC-3  0.369706  0.657847 -0.139608  0.193494 -0.417322  -0.125568 -0.421640   \n",
            "\n",
            "      Orientation  \n",
            "PC-1    -0.382607  \n",
            "PC-2     0.220366  \n",
            "PC-3    -0.076938  \n"
          ],
          "name": "stdout"
        }
      ]
    },
    {
      "cell_type": "markdown",
      "metadata": {
        "id": "YqN1TPo3PPx8"
      },
      "source": [
        "Another classifer algo"
      ]
    },
    {
      "cell_type": "code",
      "metadata": {
        "id": "4BkyUzkDXbkr",
        "colab": {
          "base_uri": "https://localhost:8080/",
          "height": 595
        },
        "outputId": "cd313668-6f1d-4024-854e-40ba27c5c390"
      },
      "source": [
        "#from sklearn.ensemble import ExtraTreesClassifier\n",
        "#model = ExtraTreesClassifier(n_estimators=3)\n",
        "#model_fit = model.fit(cont_norm_x, cont_norm_y)\n",
        "#print(model.feature_importances_)\n"
      ],
      "execution_count": 78,
      "outputs": [
        {
          "output_type": "error",
          "ename": "ValueError",
          "evalue": "ignored",
          "traceback": [
            "\u001b[0;31m---------------------------------------------------------------------------\u001b[0m",
            "\u001b[0;31mValueError\u001b[0m                                Traceback (most recent call last)",
            "\u001b[0;32m<ipython-input-78-1be6fcf04985>\u001b[0m in \u001b[0;36m<module>\u001b[0;34m()\u001b[0m\n\u001b[1;32m      1\u001b[0m \u001b[0;32mfrom\u001b[0m \u001b[0msklearn\u001b[0m\u001b[0;34m.\u001b[0m\u001b[0mensemble\u001b[0m \u001b[0;32mimport\u001b[0m \u001b[0mExtraTreesClassifier\u001b[0m\u001b[0;34m\u001b[0m\u001b[0;34m\u001b[0m\u001b[0m\n\u001b[1;32m      2\u001b[0m \u001b[0mmodel\u001b[0m \u001b[0;34m=\u001b[0m \u001b[0mExtraTreesClassifier\u001b[0m\u001b[0;34m(\u001b[0m\u001b[0mn_estimators\u001b[0m\u001b[0;34m=\u001b[0m\u001b[0;36m3\u001b[0m\u001b[0;34m)\u001b[0m\u001b[0;34m\u001b[0m\u001b[0;34m\u001b[0m\u001b[0m\n\u001b[0;32m----> 3\u001b[0;31m \u001b[0mmodel_fit\u001b[0m \u001b[0;34m=\u001b[0m \u001b[0mmodel\u001b[0m\u001b[0;34m.\u001b[0m\u001b[0mfit\u001b[0m\u001b[0;34m(\u001b[0m\u001b[0mcont_norm_x\u001b[0m\u001b[0;34m,\u001b[0m \u001b[0mcont_norm_y\u001b[0m\u001b[0;34m)\u001b[0m\u001b[0;34m\u001b[0m\u001b[0;34m\u001b[0m\u001b[0m\n\u001b[0m\u001b[1;32m      4\u001b[0m \u001b[0mprint\u001b[0m\u001b[0;34m(\u001b[0m\u001b[0mmodel\u001b[0m\u001b[0;34m.\u001b[0m\u001b[0mfeature_importances_\u001b[0m\u001b[0;34m)\u001b[0m\u001b[0;34m\u001b[0m\u001b[0;34m\u001b[0m\u001b[0m\n",
            "\u001b[0;32m/usr/local/lib/python3.7/dist-packages/sklearn/ensemble/_forest.py\u001b[0m in \u001b[0;36mfit\u001b[0;34m(self, X, y, sample_weight)\u001b[0m\n\u001b[1;32m    319\u001b[0m         \u001b[0mself\u001b[0m\u001b[0;34m.\u001b[0m\u001b[0mn_outputs_\u001b[0m \u001b[0;34m=\u001b[0m \u001b[0my\u001b[0m\u001b[0;34m.\u001b[0m\u001b[0mshape\u001b[0m\u001b[0;34m[\u001b[0m\u001b[0;36m1\u001b[0m\u001b[0;34m]\u001b[0m\u001b[0;34m\u001b[0m\u001b[0;34m\u001b[0m\u001b[0m\n\u001b[1;32m    320\u001b[0m \u001b[0;34m\u001b[0m\u001b[0m\n\u001b[0;32m--> 321\u001b[0;31m         \u001b[0my\u001b[0m\u001b[0;34m,\u001b[0m \u001b[0mexpanded_class_weight\u001b[0m \u001b[0;34m=\u001b[0m \u001b[0mself\u001b[0m\u001b[0;34m.\u001b[0m\u001b[0m_validate_y_class_weight\u001b[0m\u001b[0;34m(\u001b[0m\u001b[0my\u001b[0m\u001b[0;34m)\u001b[0m\u001b[0;34m\u001b[0m\u001b[0;34m\u001b[0m\u001b[0m\n\u001b[0m\u001b[1;32m    322\u001b[0m \u001b[0;34m\u001b[0m\u001b[0m\n\u001b[1;32m    323\u001b[0m         \u001b[0;32mif\u001b[0m \u001b[0mgetattr\u001b[0m\u001b[0;34m(\u001b[0m\u001b[0my\u001b[0m\u001b[0;34m,\u001b[0m \u001b[0;34m\"dtype\"\u001b[0m\u001b[0;34m,\u001b[0m \u001b[0;32mNone\u001b[0m\u001b[0;34m)\u001b[0m \u001b[0;34m!=\u001b[0m \u001b[0mDOUBLE\u001b[0m \u001b[0;32mor\u001b[0m \u001b[0;32mnot\u001b[0m \u001b[0my\u001b[0m\u001b[0;34m.\u001b[0m\u001b[0mflags\u001b[0m\u001b[0;34m.\u001b[0m\u001b[0mcontiguous\u001b[0m\u001b[0;34m:\u001b[0m\u001b[0;34m\u001b[0m\u001b[0;34m\u001b[0m\u001b[0m\n",
            "\u001b[0;32m/usr/local/lib/python3.7/dist-packages/sklearn/ensemble/_forest.py\u001b[0m in \u001b[0;36m_validate_y_class_weight\u001b[0;34m(self, y)\u001b[0m\n\u001b[1;32m    539\u001b[0m \u001b[0;34m\u001b[0m\u001b[0m\n\u001b[1;32m    540\u001b[0m     \u001b[0;32mdef\u001b[0m \u001b[0m_validate_y_class_weight\u001b[0m\u001b[0;34m(\u001b[0m\u001b[0mself\u001b[0m\u001b[0;34m,\u001b[0m \u001b[0my\u001b[0m\u001b[0;34m)\u001b[0m\u001b[0;34m:\u001b[0m\u001b[0;34m\u001b[0m\u001b[0;34m\u001b[0m\u001b[0m\n\u001b[0;32m--> 541\u001b[0;31m         \u001b[0mcheck_classification_targets\u001b[0m\u001b[0;34m(\u001b[0m\u001b[0my\u001b[0m\u001b[0;34m)\u001b[0m\u001b[0;34m\u001b[0m\u001b[0;34m\u001b[0m\u001b[0m\n\u001b[0m\u001b[1;32m    542\u001b[0m \u001b[0;34m\u001b[0m\u001b[0m\n\u001b[1;32m    543\u001b[0m         \u001b[0my\u001b[0m \u001b[0;34m=\u001b[0m \u001b[0mnp\u001b[0m\u001b[0;34m.\u001b[0m\u001b[0mcopy\u001b[0m\u001b[0;34m(\u001b[0m\u001b[0my\u001b[0m\u001b[0;34m)\u001b[0m\u001b[0;34m\u001b[0m\u001b[0;34m\u001b[0m\u001b[0m\n",
            "\u001b[0;32m/usr/local/lib/python3.7/dist-packages/sklearn/utils/multiclass.py\u001b[0m in \u001b[0;36mcheck_classification_targets\u001b[0;34m(y)\u001b[0m\n\u001b[1;32m    167\u001b[0m     if y_type not in ['binary', 'multiclass', 'multiclass-multioutput',\n\u001b[1;32m    168\u001b[0m                       'multilabel-indicator', 'multilabel-sequences']:\n\u001b[0;32m--> 169\u001b[0;31m         \u001b[0;32mraise\u001b[0m \u001b[0mValueError\u001b[0m\u001b[0;34m(\u001b[0m\u001b[0;34m\"Unknown label type: %r\"\u001b[0m \u001b[0;34m%\u001b[0m \u001b[0my_type\u001b[0m\u001b[0;34m)\u001b[0m\u001b[0;34m\u001b[0m\u001b[0;34m\u001b[0m\u001b[0m\n\u001b[0m\u001b[1;32m    170\u001b[0m \u001b[0;34m\u001b[0m\u001b[0m\n\u001b[1;32m    171\u001b[0m \u001b[0;34m\u001b[0m\u001b[0m\n",
            "\u001b[0;31mValueError\u001b[0m: Unknown label type: 'continuous'"
          ]
        }
      ]
    }
  ]
}